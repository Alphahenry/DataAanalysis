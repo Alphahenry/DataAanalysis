{
 "cells": [
  {
   "cell_type": "markdown",
   "id": "8813b6c4-5fe8-4a13-bed9-79b36d22a3f2",
   "metadata": {},
   "source": [
    "An API, which stands for Application Programming Interface, is a set of protocols and tools that enable different software components to communicate and transfer data. APIs act as a bridge between software applications, allowing them to interact and exchange information seamlessly. Here are some key points about APIs"
   ]
  },
  {
   "cell_type": "markdown",
   "id": "ab9b157c-8787-438b-b267-0a770840af1c",
   "metadata": {},
   "source": [
    "# Requests in Python"
   ]
  },
  {
   "cell_type": "markdown",
   "id": "6e3ab29f-5068-4a73-9dad-eea58f4d5458",
   "metadata": {},
   "source": [
    "Request in python is used to make http requests.It supports various http methods such as Get,post,put and delete"
   ]
  },
  {
   "cell_type": "code",
   "execution_count": 4,
   "id": "26dae1af-0cfa-40a7-bfb9-5347211983d5",
   "metadata": {},
   "outputs": [],
   "source": [
    "#importing libraries"
   ]
  },
  {
   "cell_type": "code",
   "execution_count": 8,
   "id": "94141e52-ba5e-4dd5-98b9-d94d300b7adf",
   "metadata": {},
   "outputs": [
    {
     "ename": "ModuleNotFoundError",
     "evalue": "No module named 'Ipython'",
     "output_type": "error",
     "traceback": [
      "\u001b[0;31m---------------------------------------------------------------------------\u001b[0m",
      "\u001b[0;31mModuleNotFoundError\u001b[0m                       Traceback (most recent call last)",
      "Cell \u001b[0;32mIn[8], line 4\u001b[0m\n\u001b[1;32m      2\u001b[0m \u001b[38;5;28;01mimport\u001b[39;00m \u001b[38;5;21;01mos\u001b[39;00m\n\u001b[1;32m      3\u001b[0m \u001b[38;5;28;01mfrom\u001b[39;00m \u001b[38;5;21;01mPIL\u001b[39;00m \u001b[38;5;28;01mimport\u001b[39;00m Image\n\u001b[0;32m----> 4\u001b[0m \u001b[38;5;28;01mfrom\u001b[39;00m \u001b[38;5;21;01mIpython\u001b[39;00m\u001b[38;5;21;01m.\u001b[39;00m\u001b[38;5;21;01mdisplay\u001b[39;00m \u001b[38;5;28;01mimport\u001b[39;00m Iframe\n",
      "\u001b[0;31mModuleNotFoundError\u001b[0m: No module named 'Ipython'"
     ]
    }
   ],
   "source": [
    "import requests\n",
    "import os\n",
    "from PIL import Image\n",
    "from Ipython.display import Iframe"
   ]
  },
  {
   "cell_type": "code",
   "execution_count": 10,
   "id": "12e71feb-20f8-4b30-9f17-0acb6d0dcaf8",
   "metadata": {},
   "outputs": [],
   "source": [
    "#lets use a get method"
   ]
  },
  {
   "cell_type": "code",
   "execution_count": null,
   "id": "24dd91e7-eb60-4a52-a387-279dbdcd2504",
   "metadata": {},
   "outputs": [],
   "source": []
  }
 ],
 "metadata": {
  "kernelspec": {
   "display_name": "Python [conda env:base] *",
   "language": "python",
   "name": "conda-base-py"
  },
  "language_info": {
   "codemirror_mode": {
    "name": "ipython",
    "version": 3
   },
   "file_extension": ".py",
   "mimetype": "text/x-python",
   "name": "python",
   "nbconvert_exporter": "python",
   "pygments_lexer": "ipython3",
   "version": "3.12.7"
  }
 },
 "nbformat": 4,
 "nbformat_minor": 5
}
