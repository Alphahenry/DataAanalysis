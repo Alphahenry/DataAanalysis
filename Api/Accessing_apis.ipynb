{
 "cells": [
  {
   "cell_type": "markdown",
   "id": "8813b6c4-5fe8-4a13-bed9-79b36d22a3f2",
   "metadata": {},
   "source": [
    "An API, which stands for Application Programming Interface, is a set of protocols and tools that enable different software components to communicate and transfer data. APIs act as a bridge between software applications, allowing them to interact and exchange information seamlessly. Here are some key points about APIs"
   ]
  },
  {
   "cell_type": "markdown",
   "id": "ab9b157c-8787-438b-b267-0a770840af1c",
   "metadata": {},
   "source": [
    "# Requests in Python"
   ]
  },
  {
   "cell_type": "markdown",
   "id": "6e3ab29f-5068-4a73-9dad-eea58f4d5458",
   "metadata": {},
   "source": [
    "Request in python is used to make http requests.It supports various http methods such as Get,post,put and delete"
   ]
  },
  {
   "cell_type": "code",
   "execution_count": 6,
   "id": "26dae1af-0cfa-40a7-bfb9-5347211983d5",
   "metadata": {},
   "outputs": [],
   "source": [
    "#importing libraries"
   ]
  },
  {
   "cell_type": "code",
   "execution_count": 10,
   "id": "94141e52-ba5e-4dd5-98b9-d94d300b7adf",
   "metadata": {},
   "outputs": [],
   "source": [
    "import requests\n",
    "import os\n",
    "from PIL import Image\n",
    "from IPython.display import IFrame"
   ]
  },
  {
   "cell_type": "code",
   "execution_count": 12,
   "id": "12e71feb-20f8-4b30-9f17-0acb6d0dcaf8",
   "metadata": {},
   "outputs": [],
   "source": [
    "#lets use a get method"
   ]
  },
  {
   "cell_type": "code",
   "execution_count": 14,
   "id": "24dd91e7-eb60-4a52-a387-279dbdcd2504",
   "metadata": {},
   "outputs": [],
   "source": [
    "url = 'https://www.W3schools.com'"
   ]
  },
  {
   "cell_type": "code",
   "execution_count": 16,
   "id": "4296ce8e-a09c-4d9a-8966-38a0a1c8aaf8",
   "metadata": {},
   "outputs": [],
   "source": [
    "r = requests.get(url)"
   ]
  },
  {
   "cell_type": "code",
   "execution_count": 18,
   "id": "5108d142-4e90-414a-b561-01e702477279",
   "metadata": {},
   "outputs": [],
   "source": [
    "#we can check the status code"
   ]
  },
  {
   "cell_type": "code",
   "execution_count": 20,
   "id": "93da014f-5f29-4b3e-8334-88f5f1c0c587",
   "metadata": {},
   "outputs": [
    {
     "data": {
      "text/plain": [
       "200"
      ]
     },
     "execution_count": 20,
     "metadata": {},
     "output_type": "execute_result"
    }
   ],
   "source": [
    "r.status_code"
   ]
  },
  {
   "cell_type": "code",
   "execution_count": null,
   "id": "8e5e4ad4-2a2d-4d0d-b614-afcbcc3fe6e9",
   "metadata": {},
   "outputs": [],
   "source": []
  }
 ],
 "metadata": {
  "kernelspec": {
   "display_name": "Python [conda env:base] *",
   "language": "python",
   "name": "conda-base-py"
  },
  "language_info": {
   "codemirror_mode": {
    "name": "ipython",
    "version": 3
   },
   "file_extension": ".py",
   "mimetype": "text/x-python",
   "name": "python",
   "nbconvert_exporter": "python",
   "pygments_lexer": "ipython3",
   "version": "3.12.7"
  }
 },
 "nbformat": 4,
 "nbformat_minor": 5
}
